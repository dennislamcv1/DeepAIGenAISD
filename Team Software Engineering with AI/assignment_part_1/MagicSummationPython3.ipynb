{
 "cells": [
  {
   "cell_type": "code",
   "execution_count": 1,
   "id": "82a73b19-7852-456c-aa00-c817676c6e43",
   "metadata": {},
   "outputs": [],
   "source": [
    "import sys\n",
    "import numpy as np\n",
    "\n",
    "def magic_summation(n, seed=None):\n",
    "    np.random.seed(seed)\n",
    "    if n <= 2:\n",
    "        return 'n cannot be less than or equal to 2'\n",
    "    elif not isinstance(n, int):\n",
    "        return \"n must be an integer\"\n",
    "    \n",
    "    magic_list = list(range(1, n+1))\n",
    "    indices_to_remove = set([int(np.random.random() * n) + 1 for _ in range(int(np.random.random() * n) + 1)])\n",
    "    \n",
    "    if len(indices_to_remove) == len(magic_list):\n",
    "        print(\"Magic summation is equal to 0.\")\n",
    "        return 0\n",
    "    \n",
    "    def iterator():\n",
    "        for idx in indices_to_remove:\n",
    "            if idx < len(magic_list):\n",
    "                del magic_list[idx]\n",
    "        for i in range(len(magic_list)):\n",
    "            if i < len(magic_list) - 1:\n",
    "                magic_list[i] = magic_list[i+1] / magic_list[i]\n",
    "        for el in magic_list:\n",
    "            yield el\n",
    "    \n",
    "    it = iterator()\n",
    "    magic_summation_value = 0\n",
    "    \n",
    "    while True:\n",
    "        try:\n",
    "            magic_summation_value += next(it)\n",
    "        except StopIteration:\n",
    "            break\n",
    "    \n",
    "    print(\"Magic summation is equal to: {0}.\".format(magic_summation_value))\n",
    "    return magic_summation_value\n",
    "\n",
    "# if name == \"main\":\n",
    "#     if len(sys.argv) > 3:\n",
    "#         print(\"You must pass at most two arguments, the value for n and/or the random seed\")\n",
    "#         sys.exit()\n",
    "#     elif len(sys.argv) == 1:\n",
    "#         print(\"You must pass at least one argument, the value for n\")\n",
    "#         sys.exit()\n",
    "#     elif len(sys.argv) == 3:\n",
    "#         n = int(sys.argv[1])\n",
    "#         seed = int(sys.argv[2])\n",
    "#     else:\n",
    "#         n = int(sys.argv[1])\n",
    "#         seed = None\n",
    "\n",
    "#     magic_summation(n, seed=seed)"
   ]
  },
  {
   "cell_type": "code",
   "execution_count": 2,
   "id": "0a511620-46a0-4314-8462-8dc7d780e2b9",
   "metadata": {},
   "outputs": [
    {
     "name": "stdout",
     "output_type": "stream",
     "text": [
      "Magic summation is equal to: 52.56272099972978.\n"
     ]
    },
    {
     "data": {
      "text/plain": [
       "52.56272099972978"
      ]
     },
     "execution_count": 2,
     "metadata": {},
     "output_type": "execute_result"
    }
   ],
   "source": [
    "magic_summation(n=30, seed=10)"
   ]
  },
  {
   "cell_type": "code",
   "execution_count": null,
   "id": "ad86fb96-f211-43d2-9aa0-462335bfec4a",
   "metadata": {},
   "outputs": [],
   "source": []
  }
 ],
 "metadata": {
  "kernelspec": {
   "display_name": "Python 3 (ipykernel)",
   "language": "python",
   "name": "python3"
  },
  "language_info": {
   "codemirror_mode": {
    "name": "ipython",
    "version": 3
   },
   "file_extension": ".py",
   "mimetype": "text/x-python",
   "name": "python",
   "nbconvert_exporter": "python",
   "pygments_lexer": "ipython3",
   "version": "3.10.9"
  }
 },
 "nbformat": 4,
 "nbformat_minor": 5
}
